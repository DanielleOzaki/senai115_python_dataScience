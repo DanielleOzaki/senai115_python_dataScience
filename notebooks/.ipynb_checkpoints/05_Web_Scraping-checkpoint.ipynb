{
 "cells": [
  {
   "cell_type": "code",
   "execution_count": 17,
   "id": "ebd89156-bdfa-44a1-bb34-52cc4088de52",
   "metadata": {},
   "outputs": [
    {
     "name": "stdout",
     "output_type": "stream",
     "text": [
      "Requirement already satisfied: selenium in c:\\users\\fic\\appdata\\roaming\\python\\python312\\site-packages (4.22.0)\n",
      "Requirement already satisfied: urllib3<3,>=1.26 in c:\\users\\fic\\appdata\\roaming\\python\\python312\\site-packages (from urllib3[socks]<3,>=1.26->selenium) (2.2.2)\n",
      "Requirement already satisfied: trio~=0.17 in c:\\users\\fic\\appdata\\roaming\\python\\python312\\site-packages (from selenium) (0.25.1)\n",
      "Requirement already satisfied: trio-websocket~=0.9 in c:\\users\\fic\\appdata\\roaming\\python\\python312\\site-packages (from selenium) (0.11.1)\n",
      "Requirement already satisfied: certifi>=2021.10.8 in c:\\users\\fic\\appdata\\roaming\\python\\python312\\site-packages (from selenium) (2024.6.2)\n",
      "Requirement already satisfied: typing_extensions>=4.9.0 in c:\\users\\fic\\appdata\\roaming\\python\\python312\\site-packages (from selenium) (4.12.2)\n",
      "Requirement already satisfied: websocket-client>=1.8.0 in c:\\users\\fic\\appdata\\roaming\\python\\python312\\site-packages (from selenium) (1.8.0)\n",
      "Requirement already satisfied: attrs>=23.2.0 in c:\\users\\fic\\appdata\\roaming\\python\\python312\\site-packages (from trio~=0.17->selenium) (23.2.0)\n",
      "Requirement already satisfied: sortedcontainers in c:\\users\\fic\\appdata\\roaming\\python\\python312\\site-packages (from trio~=0.17->selenium) (2.4.0)\n",
      "Requirement already satisfied: idna in c:\\users\\fic\\appdata\\roaming\\python\\python312\\site-packages (from trio~=0.17->selenium) (3.7)\n",
      "Requirement already satisfied: outcome in c:\\users\\fic\\appdata\\roaming\\python\\python312\\site-packages (from trio~=0.17->selenium) (1.3.0.post0)\n",
      "Requirement already satisfied: sniffio>=1.3.0 in c:\\users\\fic\\appdata\\roaming\\python\\python312\\site-packages (from trio~=0.17->selenium) (1.3.1)\n",
      "Requirement already satisfied: cffi>=1.14 in c:\\users\\fic\\appdata\\roaming\\python\\python312\\site-packages (from trio~=0.17->selenium) (1.16.0)\n",
      "Requirement already satisfied: wsproto>=0.14 in c:\\users\\fic\\appdata\\roaming\\python\\python312\\site-packages (from trio-websocket~=0.9->selenium) (1.2.0)\n",
      "Requirement already satisfied: pysocks!=1.5.7,<2.0,>=1.5.6 in c:\\users\\fic\\appdata\\roaming\\python\\python312\\site-packages (from urllib3[socks]<3,>=1.26->selenium) (1.7.1)\n",
      "Requirement already satisfied: pycparser in c:\\users\\fic\\appdata\\roaming\\python\\python312\\site-packages (from cffi>=1.14->trio~=0.17->selenium) (2.22)\n",
      "Requirement already satisfied: h11<1,>=0.9.0 in c:\\users\\fic\\appdata\\roaming\\python\\python312\\site-packages (from wsproto>=0.14->trio-websocket~=0.9->selenium) (0.14.0)\n"
     ]
    }
   ],
   "source": [
    "#Instalação pacote selenium\n",
    "!pip install selenium"
   ]
  },
  {
   "cell_type": "code",
   "execution_count": 33,
   "id": "ae718ae1-12c9-4525-a6ab-d57a620344c7",
   "metadata": {},
   "outputs": [],
   "source": [
    "# Importamos a biblioteca selenium (serve para importar ações humanas)\n",
    "from selenium import webdriver\n",
    "from selenium.webdriver.common.by import By"
   ]
  },
  {
   "cell_type": "code",
   "execution_count": 43,
   "id": "95cfc1d5-49a0-4cde-ac6b-e873cb6a4218",
   "metadata": {},
   "outputs": [
    {
     "name": "stdout",
     "output_type": "stream",
     "text": [
      "SENAI - Portal\n",
      "Cursos\n",
      "NOTÍCIAS\n"
     ]
    }
   ],
   "source": [
    "#Abrimos uma instância do navegador google Chrome\n",
    "driver = webdriver.Chrome()\n",
    "driver.implicitly_wait(2)   #Espera dois segundos\n",
    "\n",
    "#Acessa a página\n",
    "driver.get('https://www.sp.senai.br/')\n",
    "\n",
    "#Título da página \n",
    "titulo = driver.title\n",
    "print(titulo)\n",
    "\n",
    "tags_h1 = driver.find_elements(By.TAG_NAME, 'h2')\n",
    "print(tags_h1[0].text)\n",
    "print(tags_h1[1].text)\n",
    "\n",
    "# Fechamos a instância do navegador aberto\n",
    "driver.quit()"
   ]
  },
  {
   "cell_type": "code",
   "execution_count": 55,
   "id": "aee05b6b-0b6e-44d9-820b-b473dd312450",
   "metadata": {},
   "outputs": [
    {
     "name": "stdout",
     "output_type": "stream",
     "text": [
      "24\n",
      "Mark\n",
      "Jacob\n",
      "Larry\n",
      "Harry\n",
      "John\n",
      "Tim\n"
     ]
    }
   ],
   "source": [
    "#Abrimos uma instância do navegador google Chrome\n",
    "driver = webdriver.Chrome()\n",
    "driver.implicitly_wait(2)   #Espera dois segundos\n",
    "\n",
    "#Acessa a página\n",
    "driver.get('https://webscraper.io/test-sites/tables')\n",
    "\n",
    "#Título da página \n",
    "titulo = driver.title\n",
    "\n",
    "tags_td = driver.find_elements(By.TAG_NAME, 'td')  #botao direito -> inspecionar -> cntr + shift + C\n",
    "print(len(tags_td))\n",
    "\n",
    "for index in range(1, 24, 4):\n",
    "    print(tags_td[index].text)\n",
    "\n",
    "#for index in range(24):\n",
    "#    print(tags_td[index].text)  #laço de repetição, printa todos os TDs disponíveis\n",
    "\n",
    "# Fechamos a instância do navegador aberto\n",
    "driver.quit()"
   ]
  },
  {
   "cell_type": "code",
   "execution_count": null,
   "id": "eefcf4e0-d538-4a5d-86b0-8a09fcd536aa",
   "metadata": {},
   "outputs": [],
   "source": [
    "tags_td[0].text"
   ]
  }
 ],
 "metadata": {
  "kernelspec": {
   "display_name": "Python 3 (ipykernel)",
   "language": "python",
   "name": "python3"
  },
  "language_info": {
   "codemirror_mode": {
    "name": "ipython",
    "version": 3
   },
   "file_extension": ".py",
   "mimetype": "text/x-python",
   "name": "python",
   "nbconvert_exporter": "python",
   "pygments_lexer": "ipython3",
   "version": "3.12.4"
  }
 },
 "nbformat": 4,
 "nbformat_minor": 5
}
