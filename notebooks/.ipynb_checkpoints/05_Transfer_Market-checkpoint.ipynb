{
 "cells": [
  {
   "cell_type": "code",
   "execution_count": 7,
   "id": "889f5979-1c06-4611-853e-c0d6b9caedb3",
   "metadata": {},
   "outputs": [],
   "source": [
    "# Instalar a biblioteca no programa (só pela 1° vez)\n",
    "#!pip install selenium\n",
    "\n",
    "#Importar as bibliotecas\n",
    "from selenium import webdriver   #manipular dados na web\n",
    "from selenium.webdriver.common.by import By"
   ]
  },
  {
   "cell_type": "code",
   "execution_count": 27,
   "id": "d184cb0d-bcaa-4a35-9161-aa5e05d16feb",
   "metadata": {},
   "outputs": [
    {
     "name": "stdout",
     "output_type": "stream",
     "text": [
      "['1', 'River Plate', 'Superliga', 'Mâs Monumental', '84.567', '11', 'Primeira', 'Divisão', '14', '1.183.938', '12', '84.567']\n"
     ]
    }
   ],
   "source": [
    "driver = webdriver.Chrome()     #Chamar a classe do Chrome\n",
    "\n",
    "driver.implicitly_wait(2)      #Método esperar 2 segundos\n",
    "\n",
    "driver.get('https://www.transfermarkt.com.br/verein-statistik/zuschauerrangliste/\\\n",
    "statistik?wettbewerb=liga&sortierung=best&selectedOptionKey=0&plus=1')  \n",
    "\n",
    "#dadosTabela = driver.find_elements(By.TAG_NAME, 'td')\n",
    "# print(dadosTabela[0].text)\n",
    "\n",
    "linhasImpares = driver.find_elements(By.CLASS_NAME, 'odd')\n",
    "dados = linhasImpares[0].text.split('\\n')\n",
    "dados += dados[4].split()\n",
    "dados.pop(4)\n",
    "print(dados)"
   ]
  },
  {
   "cell_type": "code",
   "execution_count": null,
   "id": "decc1d5d-7409-4570-b39b-44fd9d1f6b72",
   "metadata": {},
   "outputs": [],
   "source": []
  }
 ],
 "metadata": {
  "kernelspec": {
   "display_name": "Python 3 (ipykernel)",
   "language": "python",
   "name": "python3"
  },
  "language_info": {
   "codemirror_mode": {
    "name": "ipython",
    "version": 3
   },
   "file_extension": ".py",
   "mimetype": "text/x-python",
   "name": "python",
   "nbconvert_exporter": "python",
   "pygments_lexer": "ipython3",
   "version": "3.12.4"
  }
 },
 "nbformat": 4,
 "nbformat_minor": 5
}
