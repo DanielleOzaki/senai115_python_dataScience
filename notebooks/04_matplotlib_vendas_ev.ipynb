{
 "cells": [
  {
   "cell_type": "markdown",
   "id": "c92229ec-a912-4350-9f13-5ba8fc76a792",
   "metadata": {
    "id": "c92229ec-a912-4350-9f13-5ba8fc76a792"
   },
   "source": [
    "# Desafio\n",
    "\n",
    "### Exercício: Explorando o Conjunto de Dados de Vendas de carros elétricos\n",
    "\n",
    "**Objetivo:** Utilizar a biblioteca Pandas e Matplotlib para extrair e analisar informações dos conjuntos de dados de vendas de carros elétricos.\n",
    "link: https://www.kaggle.com/datasets/patricklford/global-ev-sales-2010-2024\n",
    "\n",
    "Desafios/etapas:\n",
    "1. importar a biblioteca pandas no Jupyter\n",
    "2. ler o arquivo .csv\n",
    "3. apresentar informações básicas do dataset\n",
    "4. limpar as linhas que possuirem dados vazios\n",
    "5. plotar um gráfico do tipo \"pie\" verificando a contagem de cada tipo de veículos (coluna mode).\n",
    "6. plotar um gráfico do tipo \"bar\" verificando as 10 primeiras regiões em quantidade de veículos."
   ]
  },
  {
   "cell_type": "code",
   "execution_count": 1,
   "id": "tUaujB7AA7TY",
   "metadata": {
    "executionInfo": {
     "elapsed": 1076,
     "status": "ok",
     "timestamp": 1724194777596,
     "user": {
      "displayName": "Danielle Ozaki",
      "userId": "15168499095849041760"
     },
     "user_tz": 180
    },
    "id": "tUaujB7AA7TY"
   },
   "outputs": [],
   "source": [
    "# 1. importar a biblioteca pandas no Jupyter\n",
    "\n",
    "import pandas as pd\n",
    "import matplotlib.pyplot as plt"
   ]
  },
  {
   "cell_type": "code",
   "execution_count": 3,
   "id": "KM7Q8gKrBMHT",
   "metadata": {
    "colab": {
     "base_uri": "https://localhost:8080/",
     "height": 206
    },
    "executionInfo": {
     "elapsed": 445,
     "status": "ok",
     "timestamp": 1724194853470,
     "user": {
      "displayName": "Danielle Ozaki",
      "userId": "15168499095849041760"
     },
     "user_tz": 180
    },
    "id": "KM7Q8gKrBMHT",
    "outputId": "764e7d15-6bbe-4e2c-dec5-137a6f6a09ff"
   },
   "outputs": [
    {
     "data": {
      "text/html": [
       "<div>\n",
       "<style scoped>\n",
       "    .dataframe tbody tr th:only-of-type {\n",
       "        vertical-align: middle;\n",
       "    }\n",
       "\n",
       "    .dataframe tbody tr th {\n",
       "        vertical-align: top;\n",
       "    }\n",
       "\n",
       "    .dataframe thead th {\n",
       "        text-align: right;\n",
       "    }\n",
       "</style>\n",
       "<table border=\"1\" class=\"dataframe\">\n",
       "  <thead>\n",
       "    <tr style=\"text-align: right;\">\n",
       "      <th></th>\n",
       "      <th>region</th>\n",
       "      <th>category</th>\n",
       "      <th>parameter</th>\n",
       "      <th>mode</th>\n",
       "      <th>powertrain</th>\n",
       "      <th>year</th>\n",
       "      <th>unit</th>\n",
       "      <th>value</th>\n",
       "    </tr>\n",
       "  </thead>\n",
       "  <tbody>\n",
       "    <tr>\n",
       "      <th>0</th>\n",
       "      <td>Australia</td>\n",
       "      <td>Historical</td>\n",
       "      <td>EV stock share</td>\n",
       "      <td>Cars</td>\n",
       "      <td>EV</td>\n",
       "      <td>2011</td>\n",
       "      <td>percent</td>\n",
       "      <td>0.00039</td>\n",
       "    </tr>\n",
       "    <tr>\n",
       "      <th>1</th>\n",
       "      <td>Australia</td>\n",
       "      <td>Historical</td>\n",
       "      <td>EV sales share</td>\n",
       "      <td>Cars</td>\n",
       "      <td>EV</td>\n",
       "      <td>2011</td>\n",
       "      <td>percent</td>\n",
       "      <td>0.00650</td>\n",
       "    </tr>\n",
       "    <tr>\n",
       "      <th>2</th>\n",
       "      <td>Australia</td>\n",
       "      <td>Historical</td>\n",
       "      <td>EV sales</td>\n",
       "      <td>Cars</td>\n",
       "      <td>BEV</td>\n",
       "      <td>2011</td>\n",
       "      <td>Vehicles</td>\n",
       "      <td>49.00000</td>\n",
       "    </tr>\n",
       "    <tr>\n",
       "      <th>3</th>\n",
       "      <td>Australia</td>\n",
       "      <td>Historical</td>\n",
       "      <td>EV stock</td>\n",
       "      <td>Cars</td>\n",
       "      <td>BEV</td>\n",
       "      <td>2011</td>\n",
       "      <td>Vehicles</td>\n",
       "      <td>49.00000</td>\n",
       "    </tr>\n",
       "    <tr>\n",
       "      <th>4</th>\n",
       "      <td>Australia</td>\n",
       "      <td>Historical</td>\n",
       "      <td>EV stock</td>\n",
       "      <td>Cars</td>\n",
       "      <td>BEV</td>\n",
       "      <td>2012</td>\n",
       "      <td>Vehicles</td>\n",
       "      <td>220.00000</td>\n",
       "    </tr>\n",
       "  </tbody>\n",
       "</table>\n",
       "</div>"
      ],
      "text/plain": [
       "      region    category       parameter  mode powertrain  year      unit  \\\n",
       "0  Australia  Historical  EV stock share  Cars         EV  2011   percent   \n",
       "1  Australia  Historical  EV sales share  Cars         EV  2011   percent   \n",
       "2  Australia  Historical        EV sales  Cars        BEV  2011  Vehicles   \n",
       "3  Australia  Historical        EV stock  Cars        BEV  2011  Vehicles   \n",
       "4  Australia  Historical        EV stock  Cars        BEV  2012  Vehicles   \n",
       "\n",
       "       value  \n",
       "0    0.00039  \n",
       "1    0.00650  \n",
       "2   49.00000  \n",
       "3   49.00000  \n",
       "4  220.00000  "
      ]
     },
     "execution_count": 3,
     "metadata": {},
     "output_type": "execute_result"
    }
   ],
   "source": [
    "# 2. ler o arquivo .csv\n",
    "\n",
    "df = pd.read_csv('../dataset/IEA Global EV Data 2024.csv')  # .. serve para voltar 2 níveis paara achar o arquivo\n",
    "df.head()"
   ]
  },
  {
   "cell_type": "code",
   "execution_count": 7,
   "id": "bGfG5xZ1Bmsg",
   "metadata": {
    "colab": {
     "base_uri": "https://localhost:8080/"
    },
    "executionInfo": {
     "elapsed": 368,
     "status": "ok",
     "timestamp": 1724194933242,
     "user": {
      "displayName": "Danielle Ozaki",
      "userId": "15168499095849041760"
     },
     "user_tz": 180
    },
    "id": "bGfG5xZ1Bmsg",
    "outputId": "a664b7f9-296d-48d7-a53d-6abaeb703b29"
   },
   "outputs": [
    {
     "name": "stdout",
     "output_type": "stream",
     "text": [
      "<class 'pandas.core.frame.DataFrame'>\n",
      "RangeIndex: 12654 entries, 0 to 12653\n",
      "Data columns (total 8 columns):\n",
      " #   Column      Non-Null Count  Dtype  \n",
      "---  ------      --------------  -----  \n",
      " 0   region      12654 non-null  object \n",
      " 1   category    12654 non-null  object \n",
      " 2   parameter   12654 non-null  object \n",
      " 3   mode        12654 non-null  object \n",
      " 4   powertrain  12654 non-null  object \n",
      " 5   year        12654 non-null  int64  \n",
      " 6   unit        12654 non-null  object \n",
      " 7   value       12654 non-null  float64\n",
      "dtypes: float64(1), int64(1), object(6)\n",
      "memory usage: 791.0+ KB\n"
     ]
    }
   ],
   "source": [
    "# 3. apresentar informações básicas do dataset\n",
    "\n",
    "df.info()"
   ]
  },
  {
   "cell_type": "code",
   "execution_count": 9,
   "id": "ba4b7b8c-1081-412d-b2fa-add1e23ea27c",
   "metadata": {},
   "outputs": [
    {
     "data": {
      "text/plain": [
       "0"
      ]
     },
     "execution_count": 9,
     "metadata": {},
     "output_type": "execute_result"
    }
   ],
   "source": [
    "# Verificar dados duplicados\n",
    "\n",
    "df.duplicated().sum()       #caso aparecer 0 significa que não tem linhas iguais"
   ]
  },
  {
   "cell_type": "code",
   "execution_count": 11,
   "id": "TrXlqJbRB06b",
   "metadata": {
    "colab": {
     "base_uri": "https://localhost:8080/",
     "height": 206
    },
    "executionInfo": {
     "elapsed": 679,
     "status": "ok",
     "timestamp": 1724195158855,
     "user": {
      "displayName": "Danielle Ozaki",
      "userId": "15168499095849041760"
     },
     "user_tz": 180
    },
    "id": "TrXlqJbRB06b",
    "outputId": "749fc530-ff17-43c2-86a3-df47d35ab7bd"
   },
   "outputs": [
    {
     "data": {
      "text/html": [
       "<div>\n",
       "<style scoped>\n",
       "    .dataframe tbody tr th:only-of-type {\n",
       "        vertical-align: middle;\n",
       "    }\n",
       "\n",
       "    .dataframe tbody tr th {\n",
       "        vertical-align: top;\n",
       "    }\n",
       "\n",
       "    .dataframe thead th {\n",
       "        text-align: right;\n",
       "    }\n",
       "</style>\n",
       "<table border=\"1\" class=\"dataframe\">\n",
       "  <thead>\n",
       "    <tr style=\"text-align: right;\">\n",
       "      <th></th>\n",
       "      <th>region</th>\n",
       "      <th>category</th>\n",
       "      <th>parameter</th>\n",
       "      <th>mode</th>\n",
       "      <th>powertrain</th>\n",
       "      <th>year</th>\n",
       "      <th>unit</th>\n",
       "      <th>value</th>\n",
       "    </tr>\n",
       "  </thead>\n",
       "  <tbody>\n",
       "    <tr>\n",
       "      <th>0</th>\n",
       "      <td>Australia</td>\n",
       "      <td>Historical</td>\n",
       "      <td>EV stock share</td>\n",
       "      <td>Cars</td>\n",
       "      <td>EV</td>\n",
       "      <td>2011</td>\n",
       "      <td>percent</td>\n",
       "      <td>0.00039</td>\n",
       "    </tr>\n",
       "    <tr>\n",
       "      <th>1</th>\n",
       "      <td>Australia</td>\n",
       "      <td>Historical</td>\n",
       "      <td>EV sales share</td>\n",
       "      <td>Cars</td>\n",
       "      <td>EV</td>\n",
       "      <td>2011</td>\n",
       "      <td>percent</td>\n",
       "      <td>0.00650</td>\n",
       "    </tr>\n",
       "    <tr>\n",
       "      <th>2</th>\n",
       "      <td>Australia</td>\n",
       "      <td>Historical</td>\n",
       "      <td>EV sales</td>\n",
       "      <td>Cars</td>\n",
       "      <td>BEV</td>\n",
       "      <td>2011</td>\n",
       "      <td>Vehicles</td>\n",
       "      <td>49.00000</td>\n",
       "    </tr>\n",
       "    <tr>\n",
       "      <th>3</th>\n",
       "      <td>Australia</td>\n",
       "      <td>Historical</td>\n",
       "      <td>EV stock</td>\n",
       "      <td>Cars</td>\n",
       "      <td>BEV</td>\n",
       "      <td>2011</td>\n",
       "      <td>Vehicles</td>\n",
       "      <td>49.00000</td>\n",
       "    </tr>\n",
       "    <tr>\n",
       "      <th>4</th>\n",
       "      <td>Australia</td>\n",
       "      <td>Historical</td>\n",
       "      <td>EV stock</td>\n",
       "      <td>Cars</td>\n",
       "      <td>BEV</td>\n",
       "      <td>2012</td>\n",
       "      <td>Vehicles</td>\n",
       "      <td>220.00000</td>\n",
       "    </tr>\n",
       "  </tbody>\n",
       "</table>\n",
       "</div>"
      ],
      "text/plain": [
       "      region    category       parameter  mode powertrain  year      unit  \\\n",
       "0  Australia  Historical  EV stock share  Cars         EV  2011   percent   \n",
       "1  Australia  Historical  EV sales share  Cars         EV  2011   percent   \n",
       "2  Australia  Historical        EV sales  Cars        BEV  2011  Vehicles   \n",
       "3  Australia  Historical        EV stock  Cars        BEV  2011  Vehicles   \n",
       "4  Australia  Historical        EV stock  Cars        BEV  2012  Vehicles   \n",
       "\n",
       "       value  \n",
       "0    0.00039  \n",
       "1    0.00650  \n",
       "2   49.00000  \n",
       "3   49.00000  \n",
       "4  220.00000  "
      ]
     },
     "execution_count": 11,
     "metadata": {},
     "output_type": "execute_result"
    }
   ],
   "source": [
    "# 4. limpar as linhas que possuirem dados vazios\n",
    "\n",
    "df = df.dropna()\n",
    "df.head()"
   ]
  },
  {
   "cell_type": "code",
   "execution_count": 13,
   "id": "Cs8qCQoaB4d0",
   "metadata": {
    "id": "Cs8qCQoaB4d0"
   },
   "outputs": [],
   "source": [
    "# 5. plotar um gráfico do tipo \"pie\" verificando a contagem de cada tipo de veículos (coluna mode).\n",
    "\n",
    "df.head()\n",
    "df['unit'].unique()    #tomar cuidade pois \"mode\" é uma palavra reservada \n",
    "\n",
    "# a coluna unit possui valores de unidades diferentes, portanto será necessários \n",
    "# definir a unidade para ser analisada\n",
    "\n",
    "# A unidade será \"vehicles\" portanto é necessário criar um novo dataframe com \n",
    "#apenas essas linhas\n",
    "\n",
    "df_vehicles  = df.loc[df['unit'] == 'Vehicles']"
   ]
  },
  {
   "cell_type": "code",
   "execution_count": 15,
   "id": "f062fbcb-c965-4778-8da3-5812483765ec",
   "metadata": {},
   "outputs": [
    {
     "data": {
      "text/plain": [
       "array(['Cars', 'Buses', 'Vans', 'Trucks'], dtype=object)"
      ]
     },
     "execution_count": 15,
     "metadata": {},
     "output_type": "execute_result"
    }
   ],
   "source": [
    "df_vehicles['unit'].unique()      #Verificar os tipos únicos da coluna 'unit'\n",
    "df_vehicles['mode'].unique()      #Verificar os tipos únicos da coluna 'mode'"
   ]
  },
  {
   "cell_type": "code",
   "execution_count": 17,
   "id": "tfoB4ismB_7d",
   "metadata": {
    "id": "tfoB4ismB_7d"
   },
   "outputs": [
    {
     "data": {
      "text/plain": [
       "mode\n",
       "Cars      2975\n",
       "Buses     1485\n",
       "Vans      1449\n",
       "Trucks     933\n",
       "Name: count, dtype: int64"
      ]
     },
     "execution_count": 17,
     "metadata": {},
     "output_type": "execute_result"
    }
   ],
   "source": [
    "df_vehicles['mode'].value_counts()"
   ]
  },
  {
   "cell_type": "code",
   "execution_count": 19,
   "id": "dd3c70f2-fb54-460b-8b2f-eb197c15927d",
   "metadata": {},
   "outputs": [
    {
     "data": {
      "text/plain": [
       "([<matplotlib.patches.Wedge at 0x1c555d13c20>,\n",
       "  <matplotlib.patches.Wedge at 0x1c555e83290>,\n",
       "  <matplotlib.patches.Wedge at 0x1c557f50080>,\n",
       "  <matplotlib.patches.Wedge at 0x1c557f50680>],\n",
       " [Text(0.2236940701869681, 1.0770148387850504, 'Cars'),\n",
       "  Text(-1.059475175108288, -0.29582486935560853, 'Buses'),\n",
       "  Text(0.05351735479744666, -1.0986973617586802, 'Vans'),\n",
       "  Text(1.0005952318392295, -0.45695643339447445, 'Trucks')],\n",
       " [Text(0.12201494737470986, 0.5874626393373001, '43.5%'),\n",
       "  Text(-0.5778955500590661, -0.1613590196485137, '21.7%'),\n",
       "  Text(0.0291912844349709, -0.5992894700501892, '21.2%'),\n",
       "  Text(0.5457792173668524, -0.2492489636697133, '13.6%')])"
      ]
     },
     "execution_count": 19,
     "metadata": {},
     "output_type": "execute_result"
    },
    {
     "data": {
      "image/png": "[encoded data removed]",
      "text/plain": [
       "<Figure size 640x480 with 1 Axes>"
      ]
     },
     "metadata": {},
     "output_type": "display_data"
    }
   ],
   "source": [
    "#plt.pie(valores, labels = etiquetas dos valores)\n",
    "etiquetas = df_vehicles['mode'].unique()\n",
    "valores = df_vehicles['mode'].value_counts()\n",
    "plt.pie(valores, labels = etiquetas, autopct = '%1.1f%%')"
   ]
  },
  {
   "cell_type": "code",
   "execution_count": 21,
   "id": "6938fb8c-a08c-485f-a0eb-1232beaa85e0",
   "metadata": {},
   "outputs": [
    {
     "data": {
      "text/html": [
       "<div>\n",
       "<style scoped>\n",
       "    .dataframe tbody tr th:only-of-type {\n",
       "        vertical-align: middle;\n",
       "    }\n",
       "\n",
       "    .dataframe tbody tr th {\n",
       "        vertical-align: top;\n",
       "    }\n",
       "\n",
       "    .dataframe thead th {\n",
       "        text-align: right;\n",
       "    }\n",
       "</style>\n",
       "<table border=\"1\" class=\"dataframe\">\n",
       "  <thead>\n",
       "    <tr style=\"text-align: right;\">\n",
       "      <th></th>\n",
       "      <th>region</th>\n",
       "      <th>category</th>\n",
       "      <th>parameter</th>\n",
       "      <th>mode</th>\n",
       "      <th>powertrain</th>\n",
       "      <th>year</th>\n",
       "      <th>unit</th>\n",
       "      <th>value</th>\n",
       "    </tr>\n",
       "  </thead>\n",
       "  <tbody>\n",
       "    <tr>\n",
       "      <th>2</th>\n",
       "      <td>Australia</td>\n",
       "      <td>Historical</td>\n",
       "      <td>EV sales</td>\n",
       "      <td>Cars</td>\n",
       "      <td>BEV</td>\n",
       "      <td>2011</td>\n",
       "      <td>Vehicles</td>\n",
       "      <td>49.0</td>\n",
       "    </tr>\n",
       "    <tr>\n",
       "      <th>3</th>\n",
       "      <td>Australia</td>\n",
       "      <td>Historical</td>\n",
       "      <td>EV stock</td>\n",
       "      <td>Cars</td>\n",
       "      <td>BEV</td>\n",
       "      <td>2011</td>\n",
       "      <td>Vehicles</td>\n",
       "      <td>49.0</td>\n",
       "    </tr>\n",
       "    <tr>\n",
       "      <th>4</th>\n",
       "      <td>Australia</td>\n",
       "      <td>Historical</td>\n",
       "      <td>EV stock</td>\n",
       "      <td>Cars</td>\n",
       "      <td>BEV</td>\n",
       "      <td>2012</td>\n",
       "      <td>Vehicles</td>\n",
       "      <td>220.0</td>\n",
       "    </tr>\n",
       "    <tr>\n",
       "      <th>5</th>\n",
       "      <td>Australia</td>\n",
       "      <td>Historical</td>\n",
       "      <td>EV sales</td>\n",
       "      <td>Cars</td>\n",
       "      <td>BEV</td>\n",
       "      <td>2012</td>\n",
       "      <td>Vehicles</td>\n",
       "      <td>170.0</td>\n",
       "    </tr>\n",
       "    <tr>\n",
       "      <th>8</th>\n",
       "      <td>Australia</td>\n",
       "      <td>Historical</td>\n",
       "      <td>EV stock</td>\n",
       "      <td>Cars</td>\n",
       "      <td>PHEV</td>\n",
       "      <td>2012</td>\n",
       "      <td>Vehicles</td>\n",
       "      <td>80.0</td>\n",
       "    </tr>\n",
       "  </tbody>\n",
       "</table>\n",
       "</div>"
      ],
      "text/plain": [
       "      region    category parameter  mode powertrain  year      unit  value\n",
       "2  Australia  Historical  EV sales  Cars        BEV  2011  Vehicles   49.0\n",
       "3  Australia  Historical  EV stock  Cars        BEV  2011  Vehicles   49.0\n",
       "4  Australia  Historical  EV stock  Cars        BEV  2012  Vehicles  220.0\n",
       "5  Australia  Historical  EV sales  Cars        BEV  2012  Vehicles  170.0\n",
       "8  Australia  Historical  EV stock  Cars       PHEV  2012  Vehicles   80.0"
      ]
     },
     "execution_count": 21,
     "metadata": {},
     "output_type": "execute_result"
    }
   ],
   "source": [
    "# 6. plotar um gráfico do tipo \"bar\" verificando as 10 primeiras regiões em quantidade de veículos.\n",
    "\n",
    "df_vehicles.head()"
   ]
  },
  {
   "cell_type": "code",
   "execution_count": 23,
   "id": "b02ed9b5-f328-462c-a985-e77b5670ae26",
   "metadata": {},
   "outputs": [
    {
     "data": {
      "text/plain": [
       "region\n",
       "Australia               5.788320e+05\n",
       "Austria                 8.719660e+05\n",
       "Belgium                 1.687010e+06\n",
       "Brazil                  2.649470e+05\n",
       "Bulgaria                4.623000e+03\n",
       "Canada                  2.416440e+06\n",
       "Chile                   1.445800e+04\n",
       "China                   1.148052e+09\n",
       "Colombia                1.602300e+04\n",
       "Costa Rica              2.763100e+04\n",
       "Croatia                 7.557000e+03\n",
       "Cyprus                  2.260000e+03\n",
       "Czech Republic          3.430000e+04\n",
       "Denmark                 1.102561e+06\n",
       "EU27                    3.324256e+07\n",
       "Estonia                 4.585000e+03\n",
       "Europe                  5.937754e+08\n",
       "Finland                 7.427230e+05\n",
       "France                  6.787772e+06\n",
       "Germany                 1.020111e+07\n",
       "Greece                  1.053560e+05\n",
       "Hungary                 4.203500e+04\n",
       "Iceland                 1.897660e+05\n",
       "India                   6.341878e+07\n",
       "Ireland                 8.857000e+04\n",
       "Israel                  4.821870e+05\n",
       "Italy                   1.860044e+06\n",
       "Japan                   3.603756e+06\n",
       "Korea                   2.516838e+06\n",
       "Latvia                  4.687000e+03\n",
       "Lithuania               6.673000e+03\n",
       "Luxembourg              4.210000e+04\n",
       "Mexico                  1.425910e+05\n",
       "Netherlands             3.488004e+06\n",
       "New Zealand             3.714620e+05\n",
       "Norway                  4.793634e+06\n",
       "Poland                  3.432870e+05\n",
       "Portugal                6.749960e+05\n",
       "Rest of the world       3.089968e+08\n",
       "Romania                 3.948800e+04\n",
       "Seychelles              3.380000e+02\n",
       "Slovakia                1.335100e+04\n",
       "Slovenia                1.336300e+04\n",
       "South Africa            1.653300e+04\n",
       "Spain                   1.403419e+06\n",
       "Sweden                  2.509214e+06\n",
       "Switzerland             1.165185e+06\n",
       "Turkiye                 1.983380e+05\n",
       "USA                     4.112801e+08\n",
       "United Arab Emirates    5.280400e+04\n",
       "United Kingdom          6.283637e+06\n",
       "World                   2.520120e+09\n",
       "Name: value, dtype: float64"
      ]
     },
     "execution_count": 23,
     "metadata": {},
     "output_type": "execute_result"
    }
   ],
   "source": [
    "df_vehicles['value'].dtype\n",
    "df_vehicles.groupby('region')['value'].sum()"
   ]
  },
  {
   "cell_type": "code",
   "execution_count": 25,
   "id": "c5529e59-0406-4041-96f8-c3c037669a53",
   "metadata": {},
   "outputs": [
    {
     "data": {
      "text/plain": [
       "Index(['Australia', 'Austria', 'Belgium', 'Brazil', 'Bulgaria', 'Canada',\n",
       "       'Chile', 'China', 'Colombia', 'Costa Rica', 'Croatia', 'Cyprus',\n",
       "       'Czech Republic', 'Denmark', 'EU27', 'Estonia', 'Europe', 'Finland',\n",
       "       'France', 'Germany', 'Greece', 'Hungary', 'Iceland', 'India', 'Ireland',\n",
       "       'Israel', 'Italy', 'Japan', 'Korea', 'Latvia', 'Lithuania',\n",
       "       'Luxembourg', 'Mexico', 'Netherlands', 'New Zealand', 'Norway',\n",
       "       'Poland', 'Portugal', 'Rest of the world', 'Romania', 'Seychelles',\n",
       "       'Slovakia', 'Slovenia', 'South Africa', 'Spain', 'Sweden',\n",
       "       'Switzerland', 'Turkiye', 'USA', 'United Arab Emirates',\n",
       "       'United Kingdom', 'World'],\n",
       "      dtype='object', name='region')"
      ]
     },
     "execution_count": 25,
     "metadata": {},
     "output_type": "execute_result"
    }
   ],
   "source": [
    "# Quando se agrupa o dataframe por região e somando a coluna 'value' existe uma transformação do dataframe para dicionário\n",
    "\n",
    "#df_vehicles.groupby('region')['value'].sum().head(10).plot(kind = 'bar')\n",
    "dictionary_vehicles = df_vehicles.groupby('region')['value'].sum()\n",
    "dictionary_vehicles.keys()\n",
    "#sorted(dictionary_vehicles) #ordem descrescente "
   ]
  },
  {
   "cell_type": "code",
   "execution_count": 68,
   "id": "64fe7cf1-5ca0-4ccc-8249-1cfe65053b0d",
   "metadata": {},
   "outputs": [
    {
     "data": {
      "text/plain": [
       "<BarContainer object of 10 artists>"
      ]
     },
     "execution_count": 68,
     "metadata": {},
     "output_type": "execute_result"
    },
    {
     "data": {
      "image/png": "[encoded data removed]",
      "text/plain": [
       "<Figure size 800x400 with 1 Axes>"
      ]
     },
     "metadata": {},
     "output_type": "display_data"
    }
   ],
   "source": [
    "# O tipo de dado dicionário nao possui os metodos \n",
    "df_vehicles_region = pd.DataFrame(dictionary_vehicles.items(), columns = ['Regiões', 'Valores'])\n",
    "#df_vehicles_region.sort_values(by=['Value'], ascending = False)    #decrescente (falso)\n",
    "#df_vehicles_region\n",
    "\n",
    "#Filtra o DataFrame as linhas que fore diferente de 'World' e 'Rest of the world' para a coluna\n",
    "#'Regiões'. Organiza as linhas em ordem descrescente e apresenta apenas as primeiras 10 linhas.\n",
    "df_topTen = df_vehicles_region.loc[(df_vehicles_region['Regiões'] != 'World') & \n",
    "                       (df_vehicles_region['Regiões'] != 'Rest of the world')] \\\n",
    "                       .sort_values(by=['Valores'], ascending = False) \\\n",
    "                       .head(10)\n",
    "df_topTen        #DataFrame contendo os 10 maiores vendas de veículos em ordem descrescente\n",
    "\n",
    "x = df_topTen['Regiões']           #Dados da coluna Regiões\n",
    "y = df_topTen['Valores']           #Dados da coluna Valores\n",
    "plt.figure(figsize = (8,4))        #Define o tamanho da figura comprimento por altura\n",
    "plt.title('Vendas por Região')     #Título do gráfico\n",
    "plt.xlabel('Regiões')              #Etiqueta eixo X\n",
    "plt.ylabel('Bilhões de carros')    #Etiqueta eixo Y\n",
    "plt.xticks(rotation = 45)          #Organiza as etiquetas do eixo X em diagonal\n",
    "plt.bar(x,y)                       #Plotagem do gráfico tipo Bar (Barra)"
   ]
  },
  {
   "cell_type": "code",
   "execution_count": 76,
   "id": "fcffc587-7717-421f-a242-17268ba2d828",
   "metadata": {},
   "outputs": [
    {
     "data": {
      "text/plain": [
       "array([2010, 2011, 2012, 2013, 2014, 2015, 2016, 2017, 2018, 2019, 2020,\n",
       "       2021, 2022, 2023, 2025, 2030, 2035], dtype=int64)"
      ]
     },
     "execution_count": 76,
     "metadata": {},
     "output_type": "execute_result"
    }
   ],
   "source": [
    "df_vehicles['year'].sort_values().unique()"
   ]
  },
  {
   "cell_type": "code",
   "execution_count": 78,
   "id": "3b1ec57d-a16d-49ac-9b55-900cc6ed104c",
   "metadata": {},
   "outputs": [
    {
     "data": {
      "text/plain": [
       "array(['BEV', 'PHEV', 'FCEV'], dtype=object)"
      ]
     },
     "execution_count": 78,
     "metadata": {},
     "output_type": "execute_result"
    }
   ],
   "source": [
    "df_vehicles['powertrain'].unique()"
   ]
  },
  {
   "cell_type": "code",
   "execution_count": 112,
   "id": "cb1879c3-32fb-4c07-be08-4c90d93cbf9d",
   "metadata": {},
   "outputs": [
    {
     "data": {
      "text/plain": [
       "<matplotlib.legend.Legend at 0x1c5613e87a0>"
      ]
     },
     "execution_count": 112,
     "metadata": {},
     "output_type": "execute_result"
    },
    {
     "data": {
      "image/png": "[encoded data removed]",
      "text/plain": [
       "<Figure size 600x300 with 1 Axes>"
      ]
     },
     "metadata": {},
     "output_type": "display_data"
    }
   ],
   "source": [
    "df_BEV = df_vehicles.loc[df_vehicles['powertrain'] == 'BEV']\n",
    "df_PHEV = df_vehicles.loc[df_vehicles['powertrain'] == 'PHEV']\n",
    "df_FCEV = df_vehicles.loc[df_vehicles['powertrain'] == 'FCEV']\n",
    "\n",
    "BEV = df_BEV.groupby('year')['value'].sum()\n",
    "PHEV = df_PHEV.groupby('year')['value'].sum()\n",
    "FCEV = df_FCEV.groupby('year')['value'].sum()\n",
    "plt.figure(figsize = (6,3))          #Define o tamanho da figura comprimento por altura\n",
    "plt.title('Tendência de vendas')     #Título do gráfico\n",
    "plt.xlabel('Anos')                   #Etiqueta eixo X\n",
    "plt.ylabel('Bilhões de carros')      #Etiqueta eixo Y\n",
    "plt.plot(BEV, label = 'BEV')\n",
    "plt.plot(PHEV, label = 'PHEV')\n",
    "plt.plot(FCEV, label = 'FCEV')\n",
    "plt.legend(title= 'powertrain')"
   ]
  },
  {
   "cell_type": "code",
   "execution_count": null,
   "id": "9acf2f56-0e05-421a-9490-b82a3f05f9e5",
   "metadata": {},
   "outputs": [],
   "source": []
  }
 ],
 "metadata": {
  "colab": {
   "provenance": []
  },
  "kernelspec": {
   "display_name": "Python 3 (ipykernel)",
   "language": "python",
   "name": "python3"
  },
  "language_info": {
   "codemirror_mode": {
    "name": "ipython",
    "version": 3
   },
   "file_extension": ".py",
   "mimetype": "text/x-python",
   "name": "python",
   "nbconvert_exporter": "python",
   "pygments_lexer": "ipython3",
   "version": "3.12.4"
  }
 },
 "nbformat": 4,
 "nbformat_minor": 5
}
